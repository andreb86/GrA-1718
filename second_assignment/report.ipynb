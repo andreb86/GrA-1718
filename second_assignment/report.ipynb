{
 "nbformat": 4,
 "nbformat_minor": 2,
 "metadata": {
  "language_info": {
   "name": "python",
   "codemirror_mode": {
    "name": "ipython",
    "version": 3
   },
   "version": "3.6.9-final"
  },
  "orig_nbformat": 2,
  "file_extension": ".py",
  "mimetype": "text/x-python",
  "name": "python",
  "npconvert_exporter": "python",
  "pygments_lexer": "ipython3",
  "version": 3,
  "kernelspec": {
   "name": "python36964bitafdd07be01cc4ad9974834f32789ac23",
   "display_name": "Python 3.6.9 64-bit"
  }
 },
 "cells": [
  {
   "cell_type": "markdown",
   "execution_count": null,
   "metadata": {},
   "outputs": [],
   "source": [
    "### Part one: use synthetic graphs\n",
    "\n",
    "In the first part, you can use some graphs obtained by using the networx library or the library of your choice.\n",
    "\n",
    "For each selected graph (max 2 or 3) you can perform different types of attack: turn off nodes at random, turn off the highest degree nodes, those with the highest pagerank, those with the highest clustering coefficient, ...\n",
    "\n",
    "After each removal, compute new measures, for example the size of the giant component or the diameter of the network and then plot these measures with respect to node failures.\n",
    "\n",
    "Be careful, some of the networkx functions you will use work only for undirected, connected graphs and therefore you need to instrument your code to work on the entire graph first, and on the several components after the split of the original graph into smaller clusters.\n"
   ]
  },
  {
   "cell_type": "code",
   "execution_count": 1,
   "metadata": {},
   "outputs": [
    {
     "ename": "TypeError",
     "evalue": "Failed to convert edge data (['24']) to dictionary.",
     "output_type": "error",
     "traceback": [
      "\u001b[0;31m---------------------------------------------------------------------------\u001b[0m",
      "\u001b[0;31mTypeError\u001b[0m                                 Traceback (most recent call last)",
      "\u001b[0;32m~/universita/venv/lib/python3.6/site-packages/networkx/readwrite/edgelist.py\u001b[0m in \u001b[0;36mparse_edgelist\u001b[0;34m(lines, comments, delimiter, create_using, nodetype, data)\u001b[0m\n\u001b[1;32m    275\u001b[0m             \u001b[0;32mtry\u001b[0m\u001b[0;34m:\u001b[0m  \u001b[0;31m# try to evaluate as dictionary\u001b[0m\u001b[0;34m\u001b[0m\u001b[0;34m\u001b[0m\u001b[0m\n\u001b[0;32m--> 276\u001b[0;31m                 \u001b[0medgedata\u001b[0m \u001b[0;34m=\u001b[0m \u001b[0mdict\u001b[0m\u001b[0;34m(\u001b[0m\u001b[0mliteral_eval\u001b[0m\u001b[0;34m(\u001b[0m\u001b[0;34m' '\u001b[0m\u001b[0;34m.\u001b[0m\u001b[0mjoin\u001b[0m\u001b[0;34m(\u001b[0m\u001b[0md\u001b[0m\u001b[0;34m)\u001b[0m\u001b[0;34m)\u001b[0m\u001b[0;34m)\u001b[0m\u001b[0;34m\u001b[0m\u001b[0;34m\u001b[0m\u001b[0m\n\u001b[0m\u001b[1;32m    277\u001b[0m             \u001b[0;32mexcept\u001b[0m\u001b[0;34m:\u001b[0m\u001b[0;34m\u001b[0m\u001b[0;34m\u001b[0m\u001b[0m\n",
      "\u001b[0;31mTypeError\u001b[0m: 'int' object is not iterable",
      "\nDuring handling of the above exception, another exception occurred:\n",
      "\u001b[0;31mTypeError\u001b[0m                                 Traceback (most recent call last)",
      "\u001b[0;32m<ipython-input-1-49a10ba9656d>\u001b[0m in \u001b[0;36m<module>\u001b[0;34m\u001b[0m\n\u001b[1;32m      1\u001b[0m \u001b[0;32mimport\u001b[0m \u001b[0mnetworkx\u001b[0m\u001b[0;34m\u001b[0m\u001b[0;34m\u001b[0m\u001b[0m\n\u001b[1;32m      2\u001b[0m \u001b[0;31m#graph = networkx.read_edgelist(\"../graphs/p2p-Gnutella31.txt\")\u001b[0m\u001b[0;34m\u001b[0m\u001b[0;34m\u001b[0m\u001b[0;34m\u001b[0m\u001b[0m\n\u001b[0;32m----> 3\u001b[0;31m \u001b[0mgraph\u001b[0m \u001b[0;34m=\u001b[0m \u001b[0mnetworkx\u001b[0m\u001b[0;34m.\u001b[0m\u001b[0mread_edgelist\u001b[0m\u001b[0;34m(\u001b[0m\u001b[0;34m\"../graphs/power-grid.txt\"\u001b[0m\u001b[0;34m)\u001b[0m\u001b[0;34m\u001b[0m\u001b[0;34m\u001b[0m\u001b[0m\n\u001b[0m\u001b[1;32m      4\u001b[0m \u001b[0;31m#graph = networkx.gnp_random_graph(200, 0.1)\u001b[0m\u001b[0;34m\u001b[0m\u001b[0;34m\u001b[0m\u001b[0;34m\u001b[0m\u001b[0m\n",
      "\u001b[0;32m</home/luigi/universita/venv/lib/python3.6/site-packages/decorator.py:decorator-gen-744>\u001b[0m in \u001b[0;36mread_edgelist\u001b[0;34m(path, comments, delimiter, create_using, nodetype, data, edgetype, encoding)\u001b[0m\n",
      "\u001b[0;32m~/universita/venv/lib/python3.6/site-packages/networkx/utils/decorators.py\u001b[0m in \u001b[0;36m_open_file\u001b[0;34m(func_to_be_decorated, *args, **kwargs)\u001b[0m\n\u001b[1;32m    238\u001b[0m         \u001b[0;31m# Finally, we call the original function, making sure to close the fobj\u001b[0m\u001b[0;34m\u001b[0m\u001b[0;34m\u001b[0m\u001b[0;34m\u001b[0m\u001b[0m\n\u001b[1;32m    239\u001b[0m         \u001b[0;32mtry\u001b[0m\u001b[0;34m:\u001b[0m\u001b[0;34m\u001b[0m\u001b[0;34m\u001b[0m\u001b[0m\n\u001b[0;32m--> 240\u001b[0;31m             \u001b[0mresult\u001b[0m \u001b[0;34m=\u001b[0m \u001b[0mfunc_to_be_decorated\u001b[0m\u001b[0;34m(\u001b[0m\u001b[0;34m*\u001b[0m\u001b[0mnew_args\u001b[0m\u001b[0;34m,\u001b[0m \u001b[0;34m**\u001b[0m\u001b[0mkwargs\u001b[0m\u001b[0;34m)\u001b[0m\u001b[0;34m\u001b[0m\u001b[0;34m\u001b[0m\u001b[0m\n\u001b[0m\u001b[1;32m    241\u001b[0m         \u001b[0;32mfinally\u001b[0m\u001b[0;34m:\u001b[0m\u001b[0;34m\u001b[0m\u001b[0;34m\u001b[0m\u001b[0m\n\u001b[1;32m    242\u001b[0m             \u001b[0;32mif\u001b[0m \u001b[0mclose_fobj\u001b[0m\u001b[0;34m:\u001b[0m\u001b[0;34m\u001b[0m\u001b[0;34m\u001b[0m\u001b[0m\n",
      "\u001b[0;32m~/universita/venv/lib/python3.6/site-packages/networkx/readwrite/edgelist.py\u001b[0m in \u001b[0;36mread_edgelist\u001b[0;34m(path, comments, delimiter, create_using, nodetype, data, edgetype, encoding)\u001b[0m\n\u001b[1;32m    367\u001b[0m     return parse_edgelist(lines, comments=comments, delimiter=delimiter,\n\u001b[1;32m    368\u001b[0m                           \u001b[0mcreate_using\u001b[0m\u001b[0;34m=\u001b[0m\u001b[0mcreate_using\u001b[0m\u001b[0;34m,\u001b[0m \u001b[0mnodetype\u001b[0m\u001b[0;34m=\u001b[0m\u001b[0mnodetype\u001b[0m\u001b[0;34m,\u001b[0m\u001b[0;34m\u001b[0m\u001b[0;34m\u001b[0m\u001b[0m\n\u001b[0;32m--> 369\u001b[0;31m                           data=data)\n\u001b[0m\u001b[1;32m    370\u001b[0m \u001b[0;34m\u001b[0m\u001b[0m\n\u001b[1;32m    371\u001b[0m \u001b[0;34m\u001b[0m\u001b[0m\n",
      "\u001b[0;32m~/universita/venv/lib/python3.6/site-packages/networkx/readwrite/edgelist.py\u001b[0m in \u001b[0;36mparse_edgelist\u001b[0;34m(lines, comments, delimiter, create_using, nodetype, data)\u001b[0m\n\u001b[1;32m    277\u001b[0m             \u001b[0;32mexcept\u001b[0m\u001b[0;34m:\u001b[0m\u001b[0;34m\u001b[0m\u001b[0;34m\u001b[0m\u001b[0m\n\u001b[1;32m    278\u001b[0m                 raise TypeError(\n\u001b[0;32m--> 279\u001b[0;31m                     \"Failed to convert edge data (%s) to dictionary.\" % (d))\n\u001b[0m\u001b[1;32m    280\u001b[0m         \u001b[0;32melse\u001b[0m\u001b[0;34m:\u001b[0m\u001b[0;34m\u001b[0m\u001b[0;34m\u001b[0m\u001b[0m\n\u001b[1;32m    281\u001b[0m             \u001b[0;31m# convert edge data to dictionary with specified keys and type\u001b[0m\u001b[0;34m\u001b[0m\u001b[0;34m\u001b[0m\u001b[0;34m\u001b[0m\u001b[0m\n",
      "\u001b[0;31mTypeError\u001b[0m: Failed to convert edge data (['24']) to dictionary."
     ]
    }
   ],
   "source": [
    "import networkx\n",
    "#graph = networkx.read_edgelist(\"../graphs/p2p-Gnutella31.txt\")\n",
    "graph = networkx.read_edgelist(\"../graphs/power-grid.txt\")\n",
    "#graph = networkx.gnp_random_graph(200, 0.1)\n"
   ]
  },
  {
   "cell_type": "code",
   "execution_count": 0,
   "metadata": {},
   "outputs": [],
   "source": [
    "# Import functions\n",
    "import random\n",
    "\n",
    "def get_highest_degree_node(G):\n",
    "    return sorted(G.degree, key=lambda x: x[1], reverse=True)[0][0]\n",
    "\n",
    "def get_random_node(G):\n",
    "    list_of_nodes = G.nodes()\n",
    "    return random.sample(list_of_nodes, 1)[0]"
   ]
  },
  {
   "cell_type": "code",
   "execution_count": 0,
   "metadata": {},
   "outputs": [],
   "source": [
    "# Analyze relative giant component size (relative to the starting graph size)\n",
    "def connected_component_subgraphs(G):\n",
    "    for c in networkx.connected_components(G):\n",
    "        yield G.subgraph(c)\n",
    "def get_giant_component_size(G):\n",
    "    return len(sorted(connected_component_subgraphs(G), key=len, reverse=True)[0])\n",
    "\n",
    "# Saving inital graph' size\n",
    "n_nodes = len(graph)\n",
    "\n",
    "# Creating list variable to iterate\n",
    "graphs = []\n",
    "sizes = []\n",
    "functions = []\n",
    "\n",
    "# One graph copy and one array of data for each tecnique\n",
    "random_graph = graph.__class__(graph)\n",
    "random_giant_sizes = []\n",
    "graphs.append(random_graph)\n",
    "sizes.append(random_giant_sizes)\n",
    "functions.append(get_random_node)\n",
    "\n",
    "degree_graph = graph.__class__(graph)\n",
    "degree_giant_sizes = []\n",
    "graphs.append(degree_graph)\n",
    "sizes.append(degree_giant_sizes)\n",
    "functions.append(get_highest_degree_node)\n",
    "\n",
    "'''\n",
    "closeness_graph = graph.__class__(graph)\n",
    "closeness_giant_sizes = []\n",
    "graphs.append(closeness_graph)\n",
    "sizes.append(closeness_giant_sizes)\n",
    "\n",
    "betweenness_graph = graph.__class__(graph)\n",
    "betweenness_giant_sizes = []\n",
    "graphs.append(betweenness_graph)\n",
    "sizes.append(betweenness_giant_sizes)\n",
    "\n",
    "clustering_graph = graph.__class__(graph)\n",
    "clustering_giant_sizes = []\n",
    "graphs.append(clustering_graph)\n",
    "sizes.append(clustering_giant_sizes)\n",
    "\n",
    "'''\n",
    "for i in range(len(graphs)):\n",
    "        sizes[i].append(get_giant_component_size(graphs[i]) / n_nodes)\n",
    "\n",
    "for _ in range(len(graph) - 1):\n",
    "    # Per ogni tipo di attacco\n",
    "    for i in range(len(graphs)):\n",
    "        node_to_remove = functions[i](graphs[i])\n",
    "        graphs[i].remove_node(node_to_remove)\n",
    "        sizes[i].append(get_giant_component_size(graphs[i]) / n_nodes)\n",
    "\n",
    "\n",
    "print(degree_giant_sizes)"
   ]
  },
  {
   "cell_type": "code",
   "execution_count": 0,
   "metadata": {},
   "outputs": [],
   "source": [
    "# Plotting size results\n",
    "import matplotlib.pyplot as plt\n",
    "import numpy as np\n",
    "\n",
    "x = np.arange(0, 1, 1.0/len(graph))\n",
    "\n",
    "colors = ['r', 'b', 'g', 'y', 'p']\n",
    "for i in range(len(sizes)): \n",
    "    plt.plot(x, sizes[i], colors[i])\n",
    "\n",
    "plt.show()"
   ]
  },
  {
   "cell_type": "code",
   "execution_count": null,
   "metadata": {},
   "outputs": [],
   "source": []
  }
 ]
}