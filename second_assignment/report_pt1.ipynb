{
 "cells": [
  {
   "cell_type": "markdown",
   "metadata": {},
   "source": [
    "## 2nd Assignment: Network robustness\n",
    "\n",
    "In the first part, you can use some graphs obtained by using the networx library or the library of your choice.\n",
    "\n",
    "For each selected graph (max 2 or 3) you can perform different types of attack: turn off nodes at random, turn off the highest degree nodes, those with the highest pagerank, those with the highest clustering coefficient, ...\n",
    "\n",
    "After each removal, compute new measures, for example the size of the giant component or the diameter of the network and then plot these measures with respect to node failures.\n",
    "\n",
    "Be careful, some of the networkx functions you will use work only for undirected, connected graphs and therefore you need to instrument your code to work on the entire graph first, and on the several components after the split of the original graph into smaller clusters.\n",
    "\n",
    "TODO: Descrizione della seconda parte\n",
    "\n",
    "Il notebook è lento perché ogni volta che viene rimosso un nodo vengono ricalcolate le varie statistiche come il nodo con maggior degree. Questo perché tenere una \"classifica\" a priori potrebbe portare a risultati errati\n"
   ]
  },
  {
   "cell_type": "code",
   "execution_count": 1,
   "metadata": {},
   "outputs": [],
   "source": [
    "import networkx\n",
    "#graph = networkx.gnp_random_graph(150, 0.02, seed=42)\n",
    "graph = networkx.watts_strogatz_graph(150,4,0.1, seed=42)\n",
    "#graph = networkx.barabasi_albert_graph(150,2, seed=42)\n",
    "#graph = realgraph"
   ]
  },
  {
   "cell_type": "code",
   "execution_count": 2,
   "metadata": {},
   "outputs": [],
   "source": [
    "# Import functions\n",
    "import random\n",
    "import operator\n",
    "\n",
    "random.seed(42)\n",
    "\n",
    "def get_highest_degree_node(G):\n",
    "    return sorted(G.degree, key=lambda x: x[1], reverse=True)[0][0]\n",
    "\n",
    "def get_random_node(G):\n",
    "    list_of_nodes = G.nodes()\n",
    "    return random.sample(list_of_nodes, 1)[0]\n",
    "\n",
    "def get_highest_closeness_node(G):\n",
    "    return sorted(networkx.closeness_centrality(G).items(), key=operator.itemgetter(1),reverse=True)[0][0]\n",
    "\n",
    "def get_highest_betwennes_node(G):\n",
    "    return sorted(networkx.betweenness_centrality(G).items(), key=operator.itemgetter(1),reverse=True)[0][0]\n",
    "\n",
    "def get_highest_clustering_node(G):\n",
    "    return sorted(networkx.clustering(G).items(), key=operator.itemgetter(1),reverse=True)[0][0]\n",
    "\n",
    "def connected_component_subgraphs(G):\n",
    "    for c in networkx.connected_components(G):\n",
    "        yield G.subgraph(c)\n",
    "def get_giant_component_size(G):\n",
    "    return len(sorted(connected_component_subgraphs(G), key=len, reverse=True)[0])"
   ]
  },
  {
   "cell_type": "code",
   "execution_count": 3,
   "metadata": {},
   "outputs": [],
   "source": [
    "# Analyze relative giant component size (relative to the starting graph size)\n",
    "\n",
    "# Saving inital graph' size\n",
    "n_nodes = len(graph)\n",
    "\n",
    "# Creating list variable to iterate\n",
    "graphs = []\n",
    "sizes = []\n",
    "functions = []\n",
    "\n",
    "# One graph copy and one array of data for each tecnique\n",
    "random_graph = graph.__class__(graph)\n",
    "random_giant_sizes = []\n",
    "graphs.append(random_graph)\n",
    "sizes.append(random_giant_sizes)\n",
    "functions.append(get_random_node)\n",
    "\n",
    "degree_graph = graph.__class__(graph)\n",
    "degree_giant_sizes = []\n",
    "graphs.append(degree_graph)\n",
    "sizes.append(degree_giant_sizes)\n",
    "functions.append(get_highest_degree_node)\n",
    "\n",
    "closeness_graph = graph.__class__(graph)\n",
    "closeness_giant_sizes = []\n",
    "graphs.append(closeness_graph)\n",
    "sizes.append(closeness_giant_sizes)\n",
    "functions.append(get_highest_closeness_node)\n",
    "\n",
    "betweenness_graph = graph.__class__(graph)\n",
    "betweenness_giant_sizes = []\n",
    "graphs.append(betweenness_graph)\n",
    "sizes.append(betweenness_giant_sizes)\n",
    "functions.append(get_highest_betwennes_node)\n",
    "\n",
    "\n",
    "clustering_graph = graph.__class__(graph)\n",
    "clustering_giant_sizes = []\n",
    "graphs.append(clustering_graph)\n",
    "sizes.append(clustering_giant_sizes)\n",
    "functions.append(get_highest_clustering_node)\n",
    "\n",
    "\n",
    "for i in range(len(graphs)):\n",
    "        sizes[i].append(get_giant_component_size(graphs[i]) / n_nodes)\n",
    "\n",
    "for _ in range(len(graph) - 1):\n",
    "    # Per ogni tipo di attacco\n",
    "    for i in range(len(graphs)):\n",
    "        node_to_remove = functions[i](graphs[i])\n",
    "        graphs[i].remove_node(node_to_remove)\n",
    "        sizes[i].append(get_giant_component_size(graphs[i]) / n_nodes)"
   ]
  },
  {
   "cell_type": "code",
   "execution_count": 4,
   "metadata": {},
   "outputs": [
    {
     "data": {
      "image/png": "[encoded data removed]",
      "text/plain": [
       "<Figure size 432x288 with 1 Axes>"
      ]
     },
     "metadata": {
      "needs_background": "light"
     },
     "output_type": "display_data"
    }
   ],
   "source": [
    "# Plotting size results\n",
    "import matplotlib.pyplot as plt\n",
    "import numpy as np\n",
    "\n",
    "x = np.arange(0, 1, 1.0/len(graph))\n",
    "\n",
    "legends = [\"random\", \"hub\", \"betweenness\", \"closeness\", \"clustering\"]\n",
    "colors = ['r', 'b', 'g', 'y', 'c', 'm', 'k']\n",
    "\n",
    "for i in range(len(sizes)): \n",
    "    plt.plot(x, sizes[i], colors[i], label=legends[i])\n",
    "\n",
    "plt.title(\"Giant component relative size\")\n",
    "plt.legend()\n",
    "plt.show()"
   ]
  },
  {
   "cell_type": "code",
   "execution_count": 5,
   "metadata": {},
   "outputs": [],
   "source": [
    "# Analyze diameter \n",
    "def get_diameter(G):\n",
    "    components = sorted(connected_component_subgraphs(G), key=len, reverse=True)\n",
    "    # Se la grandezza del giant component è piu piccola del resto del grafo allora è inutile calcolare il diametro\n",
    "    if len(components[0]) < len(G) - len(components[0]):\n",
    "        return False\n",
    "    return networkx.diameter(components[0])\n",
    "\n",
    "# Creating list variable to iterate\n",
    "graphs = []\n",
    "diameters = []\n",
    "functions = []\n",
    "\n",
    "# One graph copy and one array of data for each tecnique\n",
    "random_graph = graph.__class__(graph)\n",
    "random_giant_diameters = []\n",
    "graphs.append(random_graph)\n",
    "diameters.append(random_giant_diameters)\n",
    "functions.append(get_random_node)\n",
    "\n",
    "degree_graph = graph.__class__(graph)\n",
    "degree_giant_diameters = []\n",
    "graphs.append(degree_graph)\n",
    "diameters.append(degree_giant_diameters)\n",
    "functions.append(get_highest_degree_node)\n",
    "\n",
    "closeness_graph = graph.__class__(graph)\n",
    "closeness_giant_diameters = []\n",
    "graphs.append(closeness_graph)\n",
    "diameters.append(closeness_giant_diameters)\n",
    "functions.append(get_highest_closeness_node)\n",
    "\n",
    "betweenness_graph = graph.__class__(graph)\n",
    "betweenness_giant_diameters = []\n",
    "graphs.append(betweenness_graph)\n",
    "diameters.append(betweenness_giant_diameters)\n",
    "functions.append(get_highest_betwennes_node)\n",
    "\n",
    "\n",
    "clustering_graph = graph.__class__(graph)\n",
    "clustering_giant_diameters = []\n",
    "graphs.append(clustering_graph)\n",
    "diameters.append(clustering_giant_diameters)\n",
    "functions.append(get_highest_clustering_node)\n",
    "\n",
    "# A causa della complessita computazione del calcolo del diametro non possiamo provarlo troppe volte, calcolo solo 3 volte\n",
    "# Il diametro è in percentuale al numero di nodi: 100%: devo attraversare tutti i nodi , 1% devo attraversare l'1% dei nodi per raggiungere ogni altro nodo del giant component\n",
    "\n",
    "initial_diameter = get_diameter(graphs[i]) / len(graphs[i])\n",
    "\n",
    "for i in range(len(graphs)):\n",
    "        diameters[i].append(initial_diameter)\n",
    "\n",
    "for j in range(len(graph) - 1):\n",
    "    # Per ogni tipo di attacco\n",
    "    end = False\n",
    "    for i in range(len(graphs)):\n",
    "        node_to_remove = functions[i](graphs[i])\n",
    "        graphs[i].remove_node(node_to_remove)\n",
    "        # Qui decido quando computare il diametro\n",
    "        if (j + 1) % 35 == 0:\n",
    "            diameter = get_diameter(graphs[i])\n",
    "            if diameter != False: \n",
    "                diameters[i].append(diameter / len(graphs[i]))\n",
    "            else:\n",
    "                # Se è inutile calcolare il diametro termino\n",
    "                diameters[i].append(1)\n",
    "                end = True\n",
    "    if end:\n",
    "        break"
   ]
  },
  {
   "cell_type": "code",
   "execution_count": 6,
   "metadata": {},
   "outputs": [
    {
     "ename": "ValueError",
     "evalue": "x and y must have same first dimension, but have shapes (2,) and (1,)",
     "output_type": "error",
     "traceback": [
      "\u001b[0;31m---------------------------------------------------------------------------\u001b[0m",
      "\u001b[0;31mValueError\u001b[0m                                Traceback (most recent call last)",
      "\u001b[0;32m<ipython-input-6-e6673b337605>\u001b[0m in \u001b[0;36m<module>\u001b[0;34m\u001b[0m\n\u001b[1;32m      8\u001b[0m \u001b[0;32mfor\u001b[0m \u001b[0mi\u001b[0m \u001b[0;32min\u001b[0m \u001b[0mrange\u001b[0m\u001b[0;34m(\u001b[0m\u001b[0mlen\u001b[0m\u001b[0;34m(\u001b[0m\u001b[0mdiameters\u001b[0m\u001b[0;34m)\u001b[0m\u001b[0;34m)\u001b[0m\u001b[0;34m:\u001b[0m\u001b[0;34m\u001b[0m\u001b[0;34m\u001b[0m\u001b[0m\n\u001b[1;32m      9\u001b[0m     \u001b[0;31m# Rimuovo dai diametri l'ultimo elemento perché non ha valore\u001b[0m\u001b[0;34m\u001b[0m\u001b[0;34m\u001b[0m\u001b[0;34m\u001b[0m\u001b[0m\n\u001b[0;32m---> 10\u001b[0;31m     \u001b[0mplt\u001b[0m\u001b[0;34m.\u001b[0m\u001b[0mplot\u001b[0m\u001b[0;34m(\u001b[0m\u001b[0mx\u001b[0m\u001b[0;34m,\u001b[0m \u001b[0mdiameters\u001b[0m\u001b[0;34m[\u001b[0m\u001b[0mi\u001b[0m\u001b[0;34m]\u001b[0m\u001b[0;34m[\u001b[0m\u001b[0;34m:\u001b[0m\u001b[0;34m-\u001b[0m\u001b[0;36m1\u001b[0m\u001b[0;34m]\u001b[0m\u001b[0;34m,\u001b[0m \u001b[0mcolors\u001b[0m\u001b[0;34m[\u001b[0m\u001b[0mi\u001b[0m\u001b[0;34m]\u001b[0m\u001b[0;34m,\u001b[0m \u001b[0mlabel\u001b[0m\u001b[0;34m=\u001b[0m\u001b[0mlegends\u001b[0m\u001b[0;34m[\u001b[0m\u001b[0mi\u001b[0m\u001b[0;34m]\u001b[0m\u001b[0;34m)\u001b[0m\u001b[0;34m\u001b[0m\u001b[0;34m\u001b[0m\u001b[0m\n\u001b[0m\u001b[1;32m     11\u001b[0m \u001b[0;34m\u001b[0m\u001b[0m\n\u001b[1;32m     12\u001b[0m \u001b[0mplt\u001b[0m\u001b[0;34m.\u001b[0m\u001b[0mtitle\u001b[0m\u001b[0;34m(\u001b[0m\u001b[0;34m\"Diameter relative size\"\u001b[0m\u001b[0;34m)\u001b[0m\u001b[0;34m\u001b[0m\u001b[0;34m\u001b[0m\u001b[0m\n",
      "\u001b[0;32m~/universita/venv/lib/python3.6/site-packages/matplotlib/pyplot.py\u001b[0m in \u001b[0;36mplot\u001b[0;34m(scalex, scaley, data, *args, **kwargs)\u001b[0m\n\u001b[1;32m   2794\u001b[0m     return gca().plot(\n\u001b[1;32m   2795\u001b[0m         *args, scalex=scalex, scaley=scaley, **({\"data\": data} if data\n\u001b[0;32m-> 2796\u001b[0;31m         is not None else {}), **kwargs)\n\u001b[0m\u001b[1;32m   2797\u001b[0m \u001b[0;34m\u001b[0m\u001b[0m\n\u001b[1;32m   2798\u001b[0m \u001b[0;34m\u001b[0m\u001b[0m\n",
      "\u001b[0;32m~/universita/venv/lib/python3.6/site-packages/matplotlib/axes/_axes.py\u001b[0m in \u001b[0;36mplot\u001b[0;34m(self, scalex, scaley, data, *args, **kwargs)\u001b[0m\n\u001b[1;32m   1663\u001b[0m         \"\"\"\n\u001b[1;32m   1664\u001b[0m         \u001b[0mkwargs\u001b[0m \u001b[0;34m=\u001b[0m \u001b[0mcbook\u001b[0m\u001b[0;34m.\u001b[0m\u001b[0mnormalize_kwargs\u001b[0m\u001b[0;34m(\u001b[0m\u001b[0mkwargs\u001b[0m\u001b[0;34m,\u001b[0m \u001b[0mmlines\u001b[0m\u001b[0;34m.\u001b[0m\u001b[0mLine2D\u001b[0m\u001b[0;34m.\u001b[0m\u001b[0m_alias_map\u001b[0m\u001b[0;34m)\u001b[0m\u001b[0;34m\u001b[0m\u001b[0;34m\u001b[0m\u001b[0m\n\u001b[0;32m-> 1665\u001b[0;31m         \u001b[0mlines\u001b[0m \u001b[0;34m=\u001b[0m \u001b[0;34m[\u001b[0m\u001b[0;34m*\u001b[0m\u001b[0mself\u001b[0m\u001b[0;34m.\u001b[0m\u001b[0m_get_lines\u001b[0m\u001b[0;34m(\u001b[0m\u001b[0;34m*\u001b[0m\u001b[0margs\u001b[0m\u001b[0;34m,\u001b[0m \u001b[0mdata\u001b[0m\u001b[0;34m=\u001b[0m\u001b[0mdata\u001b[0m\u001b[0;34m,\u001b[0m \u001b[0;34m**\u001b[0m\u001b[0mkwargs\u001b[0m\u001b[0;34m)\u001b[0m\u001b[0;34m]\u001b[0m\u001b[0;34m\u001b[0m\u001b[0;34m\u001b[0m\u001b[0m\n\u001b[0m\u001b[1;32m   1666\u001b[0m         \u001b[0;32mfor\u001b[0m \u001b[0mline\u001b[0m \u001b[0;32min\u001b[0m \u001b[0mlines\u001b[0m\u001b[0;34m:\u001b[0m\u001b[0;34m\u001b[0m\u001b[0;34m\u001b[0m\u001b[0m\n\u001b[1;32m   1667\u001b[0m             \u001b[0mself\u001b[0m\u001b[0;34m.\u001b[0m\u001b[0madd_line\u001b[0m\u001b[0;34m(\u001b[0m\u001b[0mline\u001b[0m\u001b[0;34m)\u001b[0m\u001b[0;34m\u001b[0m\u001b[0;34m\u001b[0m\u001b[0m\n",
      "\u001b[0;32m~/universita/venv/lib/python3.6/site-packages/matplotlib/axes/_base.py\u001b[0m in \u001b[0;36m__call__\u001b[0;34m(self, *args, **kwargs)\u001b[0m\n\u001b[1;32m    223\u001b[0m                 \u001b[0mthis\u001b[0m \u001b[0;34m+=\u001b[0m \u001b[0margs\u001b[0m\u001b[0;34m[\u001b[0m\u001b[0;36m0\u001b[0m\u001b[0;34m]\u001b[0m\u001b[0;34m,\u001b[0m\u001b[0;34m\u001b[0m\u001b[0;34m\u001b[0m\u001b[0m\n\u001b[1;32m    224\u001b[0m                 \u001b[0margs\u001b[0m \u001b[0;34m=\u001b[0m \u001b[0margs\u001b[0m\u001b[0;34m[\u001b[0m\u001b[0;36m1\u001b[0m\u001b[0;34m:\u001b[0m\u001b[0;34m]\u001b[0m\u001b[0;34m\u001b[0m\u001b[0;34m\u001b[0m\u001b[0m\n\u001b[0;32m--> 225\u001b[0;31m             \u001b[0;32myield\u001b[0m \u001b[0;32mfrom\u001b[0m \u001b[0mself\u001b[0m\u001b[0;34m.\u001b[0m\u001b[0m_plot_args\u001b[0m\u001b[0;34m(\u001b[0m\u001b[0mthis\u001b[0m\u001b[0;34m,\u001b[0m \u001b[0mkwargs\u001b[0m\u001b[0;34m)\u001b[0m\u001b[0;34m\u001b[0m\u001b[0;34m\u001b[0m\u001b[0m\n\u001b[0m\u001b[1;32m    226\u001b[0m \u001b[0;34m\u001b[0m\u001b[0m\n\u001b[1;32m    227\u001b[0m     \u001b[0;32mdef\u001b[0m \u001b[0mget_next_color\u001b[0m\u001b[0;34m(\u001b[0m\u001b[0mself\u001b[0m\u001b[0;34m)\u001b[0m\u001b[0;34m:\u001b[0m\u001b[0;34m\u001b[0m\u001b[0;34m\u001b[0m\u001b[0m\n",
      "\u001b[0;32m~/universita/venv/lib/python3.6/site-packages/matplotlib/axes/_base.py\u001b[0m in \u001b[0;36m_plot_args\u001b[0;34m(self, tup, kwargs)\u001b[0m\n\u001b[1;32m    389\u001b[0m             \u001b[0mx\u001b[0m\u001b[0;34m,\u001b[0m \u001b[0my\u001b[0m \u001b[0;34m=\u001b[0m \u001b[0mindex_of\u001b[0m\u001b[0;34m(\u001b[0m\u001b[0mtup\u001b[0m\u001b[0;34m[\u001b[0m\u001b[0;34m-\u001b[0m\u001b[0;36m1\u001b[0m\u001b[0;34m]\u001b[0m\u001b[0;34m)\u001b[0m\u001b[0;34m\u001b[0m\u001b[0;34m\u001b[0m\u001b[0m\n\u001b[1;32m    390\u001b[0m \u001b[0;34m\u001b[0m\u001b[0m\n\u001b[0;32m--> 391\u001b[0;31m         \u001b[0mx\u001b[0m\u001b[0;34m,\u001b[0m \u001b[0my\u001b[0m \u001b[0;34m=\u001b[0m \u001b[0mself\u001b[0m\u001b[0;34m.\u001b[0m\u001b[0m_xy_from_xy\u001b[0m\u001b[0;34m(\u001b[0m\u001b[0mx\u001b[0m\u001b[0;34m,\u001b[0m \u001b[0my\u001b[0m\u001b[0;34m)\u001b[0m\u001b[0;34m\u001b[0m\u001b[0;34m\u001b[0m\u001b[0m\n\u001b[0m\u001b[1;32m    392\u001b[0m \u001b[0;34m\u001b[0m\u001b[0m\n\u001b[1;32m    393\u001b[0m         \u001b[0;32mif\u001b[0m \u001b[0mself\u001b[0m\u001b[0;34m.\u001b[0m\u001b[0mcommand\u001b[0m \u001b[0;34m==\u001b[0m \u001b[0;34m'plot'\u001b[0m\u001b[0;34m:\u001b[0m\u001b[0;34m\u001b[0m\u001b[0;34m\u001b[0m\u001b[0m\n",
      "\u001b[0;32m~/universita/venv/lib/python3.6/site-packages/matplotlib/axes/_base.py\u001b[0m in \u001b[0;36m_xy_from_xy\u001b[0;34m(self, x, y)\u001b[0m\n\u001b[1;32m    268\u001b[0m         \u001b[0;32mif\u001b[0m \u001b[0mx\u001b[0m\u001b[0;34m.\u001b[0m\u001b[0mshape\u001b[0m\u001b[0;34m[\u001b[0m\u001b[0;36m0\u001b[0m\u001b[0;34m]\u001b[0m \u001b[0;34m!=\u001b[0m \u001b[0my\u001b[0m\u001b[0;34m.\u001b[0m\u001b[0mshape\u001b[0m\u001b[0;34m[\u001b[0m\u001b[0;36m0\u001b[0m\u001b[0;34m]\u001b[0m\u001b[0;34m:\u001b[0m\u001b[0;34m\u001b[0m\u001b[0;34m\u001b[0m\u001b[0m\n\u001b[1;32m    269\u001b[0m             raise ValueError(\"x and y must have same first dimension, but \"\n\u001b[0;32m--> 270\u001b[0;31m                              \"have shapes {} and {}\".format(x.shape, y.shape))\n\u001b[0m\u001b[1;32m    271\u001b[0m         \u001b[0;32mif\u001b[0m \u001b[0mx\u001b[0m\u001b[0;34m.\u001b[0m\u001b[0mndim\u001b[0m \u001b[0;34m>\u001b[0m \u001b[0;36m2\u001b[0m \u001b[0;32mor\u001b[0m \u001b[0my\u001b[0m\u001b[0;34m.\u001b[0m\u001b[0mndim\u001b[0m \u001b[0;34m>\u001b[0m \u001b[0;36m2\u001b[0m\u001b[0;34m:\u001b[0m\u001b[0;34m\u001b[0m\u001b[0;34m\u001b[0m\u001b[0m\n\u001b[1;32m    272\u001b[0m             raise ValueError(\"x and y can be no greater than 2-D, but have \"\n",
      "\u001b[0;31mValueError\u001b[0m: x and y must have same first dimension, but have shapes (2,) and (1,)"
     ]
    },
    {
     "data": {
      "image/png": "[encoded data removed]",
      "text/plain": [
       "<Figure size 432x288 with 1 Axes>"
      ]
     },
     "metadata": {
      "needs_background": "light"
     },
     "output_type": "display_data"
    }
   ],
   "source": [
    "# Plotting diameter results\n",
    "\n",
    "x = [0, 0.75]\n",
    "\n",
    "legends = [\"random\", \"hub\", \"betweenness\", \"closeness\", \"clustering\"]\n",
    "colors = ['r', 'b', 'g', 'y', 'c', 'm', 'k']\n",
    "\n",
    "for i in range(len(diameters)): \n",
    "    # Rimuovo dai diametri l'ultimo elemento perché non ha valore\n",
    "    plt.plot(x, diameters[i][:-1], colors[i], label=legends[i])\n",
    "\n",
    "plt.title(\"Diameter relative size\")\n",
    "plt.legend()\n",
    "plt.show()"
   ]
  }
 ],
 "metadata": {
  "file_extension": ".py",
  "kernelspec": {
   "display_name": "Python 3",
   "language": "python",
   "name": "python3"
  },
  "language_info": {
   "codemirror_mode": {
    "name": "ipython",
    "version": 3
   },
   "file_extension": ".py",
   "mimetype": "text/x-python",
   "name": "python",
   "nbconvert_exporter": "python",
   "pygments_lexer": "ipython3",
   "version": "3.6.9"
  },
  "mimetype": "text/x-python",
  "name": "python",
  "npconvert_exporter": "python",
  "pygments_lexer": "ipython3",
  "version": 3
 },
 "nbformat": 4,
 "nbformat_minor": 2
}
