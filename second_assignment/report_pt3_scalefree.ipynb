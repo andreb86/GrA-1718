{
 "cells": [
  {
   "cell_type": "markdown",
   "metadata": {},
   "source": [
    "## Parte 3: Scale free graph\n",
    "In questa sezione andiamo ad analizzare una scale free network generato tramite networkx, in\n",
    "particolare attraverso il modello Barabasi-Albert.\n",
    "\n",
    "Come prima il numero di nodi rimane inviariato, e ciascuno di esso è collegato rispettivamente con\n",
    "due nodi, preferibilmente con alta degree\n",
    "\n",
    "Ci aspettiamo che la rete sia robusta a failure di nodi random."
   ]
  },
  {
   "cell_type": "code",
   "execution_count": 1,
   "metadata": {},
   "outputs": [],
   "source": [
    "import networkx\n",
    "graph = networkx.barabasi_albert_graph(150,2, seed=42)"
   ]
  },
  {
   "cell_type": "code",
   "execution_count": 2,
   "metadata": {},
   "outputs": [],
   "source": [
    "# Import functions\n",
    "import random\n",
    "import operator\n",
    "\n",
    "random.seed(42)\n",
    "\n",
    "def get_highest_degree_node(G):\n",
    "    return sorted(G.degree, key=lambda x: x[1], reverse=True)[0][0]\n",
    "\n",
    "def get_random_node(G):\n",
    "    list_of_nodes = G.nodes()\n",
    "    return random.sample(list_of_nodes, 1)[0]\n",
    "\n",
    "def get_highest_closeness_node(G):\n",
    "    return sorted(networkx.closeness_centrality(G).items(), key=operator.itemgetter(1),reverse=True)[0][0]\n",
    "\n",
    "def get_highest_betwennes_node(G):\n",
    "    return sorted(networkx.betweenness_centrality(G).items(), key=operator.itemgetter(1),reverse=True)[0][0]\n",
    "\n",
    "def get_highest_clustering_node(G):\n",
    "    return sorted(networkx.clustering(G).items(), key=operator.itemgetter(1),reverse=True)[0][0]\n",
    "\n",
    "def connected_component_subgraphs(G):\n",
    "    for c in networkx.connected_components(G):\n",
    "        yield G.subgraph(c)\n",
    "def get_giant_component_size(G):\n",
    "    return len(sorted(connected_component_subgraphs(G), key=len, reverse=True)[0])"
   ]
  },
  {
   "cell_type": "code",
   "execution_count": 3,
   "metadata": {},
   "outputs": [],
   "source": [
    "# Analyze relative giant component size (relative to the starting graph size)\n",
    "\n",
    "# Saving inital graph' size\n",
    "n_nodes = len(graph)\n",
    "\n",
    "# Creating list variable to iterate\n",
    "graphs = []\n",
    "sizes = []\n",
    "functions = []\n",
    "\n",
    "# One graph copy and one array of data for each tecnique\n",
    "random_graph = graph.__class__(graph)\n",
    "random_giant_sizes = []\n",
    "graphs.append(random_graph)\n",
    "sizes.append(random_giant_sizes)\n",
    "functions.append(get_random_node)\n",
    "\n",
    "degree_graph = graph.__class__(graph)\n",
    "degree_giant_sizes = []\n",
    "graphs.append(degree_graph)\n",
    "sizes.append(degree_giant_sizes)\n",
    "functions.append(get_highest_degree_node)\n",
    "\n",
    "closeness_graph = graph.__class__(graph)\n",
    "closeness_giant_sizes = []\n",
    "graphs.append(closeness_graph)\n",
    "sizes.append(closeness_giant_sizes)\n",
    "functions.append(get_highest_closeness_node)\n",
    "\n",
    "betweenness_graph = graph.__class__(graph)\n",
    "betweenness_giant_sizes = []\n",
    "graphs.append(betweenness_graph)\n",
    "sizes.append(betweenness_giant_sizes)\n",
    "functions.append(get_highest_betwennes_node)\n",
    "\n",
    "\n",
    "clustering_graph = graph.__class__(graph)\n",
    "clustering_giant_sizes = []\n",
    "graphs.append(clustering_graph)\n",
    "sizes.append(clustering_giant_sizes)\n",
    "functions.append(get_highest_clustering_node)\n",
    "\n",
    "\n",
    "for i in range(len(graphs)):\n",
    "        sizes[i].append(get_giant_component_size(graphs[i]) / n_nodes)\n",
    "\n",
    "for _ in range(len(graph) - 1):\n",
    "    # Per ogni tipo di attacco\n",
    "    for i in range(len(graphs)):\n",
    "        node_to_remove = functions[i](graphs[i])\n",
    "        graphs[i].remove_node(node_to_remove)\n",
    "        sizes[i].append(get_giant_component_size(graphs[i]) / n_nodes)"
   ]
  },
  {
   "cell_type": "code",
   "execution_count": 4,
   "metadata": {},
   "outputs": [
    {
     "data": {
      "image/png": "[encoded data removed]",
      "text/plain": [
       "<Figure size 432x288 with 1 Axes>"
      ]
     },
     "metadata": {
      "needs_background": "light"
     },
     "output_type": "display_data"
    }
   ],
   "source": [
    "# Plotting size results\n",
    "import matplotlib.pyplot as plt\n",
    "import numpy as np\n",
    "\n",
    "x = np.arange(0, 1, 1.0/len(graph))\n",
    "\n",
    "legends = [\"random\", \"hub\", \"betweenness\", \"closeness\", \"clustering\"]\n",
    "colors = ['r', 'b', 'g', 'y', 'c', 'm', 'k']\n",
    "\n",
    "for i in range(len(sizes)): \n",
    "    plt.plot(x, sizes[i], colors[i], label=legends[i])\n",
    "\n",
    "plt.title(\"Giant component relative size\")\n",
    "plt.ylim(ymin=0)\n",
    "plt.legend()\n",
    "plt.show()"
   ]
  },
  {
   "cell_type": "code",
   "execution_count": 5,
   "metadata": {},
   "outputs": [],
   "source": [
    "# Analyze diameter \n",
    "def get_diameter(G):\n",
    "    components = sorted(connected_component_subgraphs(G), key=len, reverse=True)\n",
    "    # Come visto da slide ha senso se <k> > 1\n",
    "    nnodes = G.number_of_nodes()\n",
    "    deg = sum(d for n, d in G.degree()) / float(nnodes)\n",
    "    if deg < 1:\n",
    "        return False\n",
    "    return networkx.diameter(components[0])\n",
    "\n",
    "# Creating list variable to iterate\n",
    "graphs = []\n",
    "diameters = []\n",
    "functions = []\n",
    "\n",
    "# One graph copy and one array of data for each tecnique\n",
    "random_graph = graph.__class__(graph)\n",
    "random_giant_diameters = []\n",
    "graphs.append(random_graph)\n",
    "diameters.append(random_giant_diameters)\n",
    "functions.append(get_random_node)\n",
    "\n",
    "degree_graph = graph.__class__(graph)\n",
    "degree_giant_diameters = []\n",
    "graphs.append(degree_graph)\n",
    "diameters.append(degree_giant_diameters)\n",
    "functions.append(get_highest_degree_node)\n",
    "\n",
    "closeness_graph = graph.__class__(graph)\n",
    "closeness_giant_diameters = []\n",
    "graphs.append(closeness_graph)\n",
    "diameters.append(closeness_giant_diameters)\n",
    "functions.append(get_highest_closeness_node)\n",
    "\n",
    "betweenness_graph = graph.__class__(graph)\n",
    "betweenness_giant_diameters = []\n",
    "graphs.append(betweenness_graph)\n",
    "diameters.append(betweenness_giant_diameters)\n",
    "functions.append(get_highest_betwennes_node)\n",
    "\n",
    "\n",
    "clustering_graph = graph.__class__(graph)\n",
    "clustering_giant_diameters = []\n",
    "graphs.append(clustering_graph)\n",
    "diameters.append(clustering_giant_diameters)\n",
    "functions.append(get_highest_clustering_node)\n",
    "\n",
    "# A causa della complessita computazione del calcolo del diametro non possiamo provarlo troppe volte, calcolo solo 3 volte\n",
    "# Il diametro è in percentuale al numero di nodi: 100%: devo attraversare tutti i nodi , 1% devo attraversare l'1% dei nodi per raggiungere ogni altro nodo del giant component\n",
    "\n",
    "initial_diameter = get_diameter(graphs[i]) / get_giant_component_size(graphs[i])\n",
    "\n",
    "for i in range(len(graphs)):\n",
    "        diameters[i].append(initial_diameter)\n",
    "\n",
    "# Lo limito a 25 nodi (31 perché l'ultima computazione non viene considerata)\n",
    "for j in range(31):\n",
    "    # Per ogni tipo di attacco\n",
    "    end = False\n",
    "    for i in range(len(graphs)):\n",
    "        node_to_remove = functions[i](graphs[i])\n",
    "        graphs[i].remove_node(node_to_remove)\n",
    "        # Qui decido quando computare il diametro\n",
    "        if (j + 1) % 5 == 0:\n",
    "            diameter = get_diameter(graphs[i])\n",
    "            if diameter != False: \n",
    "                diameters[i].append(diameter / get_giant_component_size(graphs[i]))\n",
    "            else:\n",
    "                # Se è inutile calcolare il diametro termino\n",
    "                diameters[i].append(1)\n",
    "                end = True\n",
    "    if end:\n",
    "        break"
   ]
  },
  {
   "cell_type": "code",
   "execution_count": 6,
   "metadata": {},
   "outputs": [
    {
     "data": {
      "image/png": "[encoded data removed]",
      "text/plain": [
       "<Figure size 432x288 with 1 Axes>"
      ]
     },
     "metadata": {
      "needs_background": "light"
     },
     "output_type": "display_data"
    }
   ],
   "source": [
    "# Plotting diameter results\n",
    "\n",
    "x = [0, 5, 10, 15, 20, 25]\n",
    "\n",
    "legends = [\"random\", \"hub\", \"betweenness\", \"closeness\", \"clustering\"]\n",
    "colors = ['r', 'b', 'g', 'y', 'c', 'm', 'k']\n",
    "\n",
    "for i in range(len(diameters)): \n",
    "    # Rimuovo dai diametri l'ultimo elemento perché non ha valore\n",
    "    plt.plot(x, diameters[i][:-1], colors[i], label=legends[i])\n",
    "\n",
    "plt.title(\"Diameter relative size\")\n",
    "plt.legend()\n",
    "plt.show()"
   ]
  },
  {
   "cell_type": "markdown",
   "metadata": {},
   "source": [
    "### Considerazioni\n",
    "\n",
    "Sia per quanto riguarda la dimensione della giant component i dati sono conformi a quanto ci aspettavamo,  gli attacchi a nodi random non hanno effetto finché non si leva quasi la totalità dei nodi. "
   ]
  }
 ],
 "metadata": {
  "file_extension": ".py",
  "kernelspec": {
   "display_name": "Python 3",
   "language": "python",
   "name": "python3"
  },
  "language_info": {
   "codemirror_mode": {
    "name": "ipython",
    "version": 3
   },
   "file_extension": ".py",
   "mimetype": "text/x-python",
   "name": "python",
   "nbconvert_exporter": "python",
   "pygments_lexer": "ipython3",
   "version": "3.6.9"
  },
  "mimetype": "text/x-python",
  "name": "python",
  "npconvert_exporter": "python",
  "pygments_lexer": "ipython3",
  "version": 3
 },
 "nbformat": 4,
 "nbformat_minor": 2
}
