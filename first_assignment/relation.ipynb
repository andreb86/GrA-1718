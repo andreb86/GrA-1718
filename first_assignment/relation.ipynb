{
 "cells": [
  {
   "cell_type": "markdown",
   "metadata": {},
   "source": [
    "# 1st Assignment: Analyse your graph\n",
    "\n",
    "Il grafo di riferimento, preso da [snap.stanford.edu](http://snap.stanford.edu/data/p2p-Gnutella31.html), contiene come nodi i terminali connessi alla rete p2p gnutella, e come archi l'interconnessione tra questi terminali.\n",
    "Il grafo è non diretto.\n",
    "\n",
    "Scopo di questa relazione è ricavare le caratteristiche generali del grafo, fino ad arrivare alla sua classificazione. In contemporanea si andrà a rispondere alle domande richieste da consegna, alcune della quali utili per lo svolgimento del 2nd assignment.\n",
    "\n",
    "Nel notebook verranno utilizzate diverse librerie, tra cui networkx. "
   ]
  },
  {
   "cell_type": "code",
   "execution_count": 1,
   "metadata": {},
   "outputs": [],
   "source": [
    "import networkx\n",
    "graph = networkx.read_edgelist(\"../graphs/p2p-Gnutella31.txt\")\n",
    "#graph = networkx.gnp_random_graph(100, 0.02)\n"
   ]
  },
  {
   "cell_type": "code",
   "execution_count": 2,
   "metadata": {},
   "outputs": [
    {
     "name": "stdout",
     "output_type": "stream",
     "text": [
      "Number of nodes:  62586\n",
      "Number of edges:  147892\n"
     ]
    }
   ],
   "source": [
    "print(\"Number of nodes: \", len(graph))\n",
    "print(\"Number of edges: \", graph.number_of_edges())"
   ]
  },
  {
   "cell_type": "code",
   "execution_count": 3,
   "metadata": {},
   "outputs": [
    {
     "data": {
      "image/png": "[encoded data removed]",
      "text/plain": [
       "<Figure size 432x288 with 1 Axes>"
      ]
     },
     "metadata": {},
     "output_type": "display_data"
    }
   ],
   "source": [
    "import matplotlib.pyplot as plt\n",
    "\n",
    "networkx.draw(graph, with_labels=False, node_size=10)\n",
    "plt.show()"
   ]
  },
  {
   "cell_type": "code",
   "execution_count": 4,
   "metadata": {},
   "outputs": [
    {
     "name": "stdout",
     "output_type": "stream",
     "text": [
      "Avarage degree:  4.726040967628543\n"
     ]
    }
   ],
   "source": [
    "import collections\n",
    "\n",
    "def average_degree(graph):\n",
    "    \"\"\"\n",
    "    Calculate the average degree of the network\n",
    "    :param graph: the networkx Graph() object\n",
    "    :return: the average degree of the network\n",
    "    \"\"\"\n",
    "    k = map(lambda d: d[1], graph.degree())\n",
    "    return sum(list(k)) / graph.number_of_nodes()\n",
    "\n",
    "print(\"Avarage degree: \", average_degree(graph))"
   ]
  },
  {
   "cell_type": "code",
   "execution_count": 5,
   "metadata": {},
   "outputs": [
    {
     "data": {
      "text/plain": [
       "Text(0.5, 0, 'Degree')"
      ]
     },
     "execution_count": 5,
     "metadata": {},
     "output_type": "execute_result"
    },
    {
     "data": {
      "image/png": "[encoded data removed]",
      "text/plain": [
       "<Figure size 432x288 with 1 Axes>"
      ]
     },
     "metadata": {
      "needs_background": "light"
     },
     "output_type": "display_data"
    }
   ],
   "source": [
    "# Plot istrogramma degree\n",
    "\n",
    "degree_sequence = sorted([d for n, d in graph.degree()], reverse=True)  # degree sequence\n",
    "# print \"Degree sequence\", degree_sequence\n",
    "degreeCount = collections.Counter(degree_sequence)\n",
    "deg, cnt = zip(*degreeCount.items())\n",
    "\n",
    "\n",
    "plt.bar(deg, cnt, width=0.80, color='b')\n",
    "plt.title(\"Degree Histogram\")\n",
    "plt.ylabel(\"Count\")\n",
    "plt.xlabel(\"Degree\")\n",
    "\n"
   ]
  },
  {
   "cell_type": "code",
   "execution_count": 6,
   "metadata": {},
   "outputs": [
    {
     "name": "stdout",
     "output_type": "stream",
     "text": [
      "There are  12  connected components\n",
      "Giant component size:  62561\n"
     ]
    }
   ],
   "source": [
    "def connected_component_subgraphs(G):\n",
    "    for c in networkx.connected_components(G):\n",
    "        yield G.subgraph(c)\n",
    "\n",
    "components = sorted(connected_component_subgraphs(graph), key=len, reverse=True)\n",
    "print(\"There are \", len(components), \" connected components\")\n",
    "print(\"Giant component size: \", len(components[0]))\n",
    "\n"
   ]
  },
  {
   "cell_type": "code",
   "execution_count": null,
   "metadata": {},
   "outputs": [],
   "source": [
    "# Plot del grafo con le varie componenti connesse colorate con diversi colori\n",
    "# identify largest connected component\n",
    "import pydot\n",
    "from networkx.drawing.nx_pydot import graphviz_layout\n",
    "\n",
    "\n",
    "\n",
    "pos = graphviz_layout(graph)\n",
    "\n",
    "networkx.draw(graph, pos, with_labels=False, node_size=10)\n",
    "# Getting largest connected component\n",
    "graphcc = sorted(networkx.connected_components(graph), key=len, reverse=True)\n",
    "graph0 = graph.subgraph(graphcc[0])\n",
    "networkx.draw_networkx_edges(graph0, pos,\n",
    "                        with_labels=False,\n",
    "                        edge_color='r',\n",
    "                        width=3.0\n",
    "                        )\n",
    "# show other connected components\n",
    "for Gi in graphcc[1:]:\n",
    "    if len(Gi) > 1:\n",
    "        networkx.draw_networkx_edges(graph.subgraph(Gi), pos,\n",
    "                                with_labels=False,\n",
    "                                edge_color='r',\n",
    "                                alpha=0.3,\n",
    "                                width=2.0\n",
    "                                )\n",
    "\n"
   ]
  },
  {
   "cell_type": "code",
   "execution_count": null,
   "metadata": {},
   "outputs": [],
   "source": [
    "print(\"Diameter of gian component: \", networkx.diameter(components[0])) \n"
   ]
  },
  {
   "cell_type": "code",
   "execution_count": null,
   "metadata": {},
   "outputs": [],
   "source": [
    "print(\"Average shortes path: \", networkx.average_shortest_path_length(components[0]))"
   ]
  },
  {
   "cell_type": "markdown",
   "metadata": {},
   "source": [
    "Dai risultati precedenti si è ricavato che il diametro del grafo è: INSERT HERE, mentre lo shortest path è: INSERT HERE. \n",
    "\n",
    "############ Sembrerebbe quindi che il grafo sia poco denso"
   ]
  },
  {
   "cell_type": "code",
   "execution_count": null,
   "metadata": {},
   "outputs": [],
   "source": [
    "print(\"Density: \", networkx.density(graph))\n"
   ]
  },
  {
   "cell_type": "markdown",
   "metadata": {},
   "source": [
    "Come ipotizzato in precedenza la densità del grafo è bassa"
   ]
  },
  {
   "cell_type": "code",
   "execution_count": null,
   "metadata": {},
   "outputs": [],
   "source": [
    "print(\"Average clustering coefficient: \", networkx.average_clustering(graph))"
   ]
  },
  {
   "cell_type": "code",
   "execution_count": null,
   "metadata": {},
   "outputs": [],
   "source": [
    "print(\"Assortivity: \", networkx.correlation.degree_assortativity_coefficient(graph))"
   ]
  },
  {
   "cell_type": "code",
   "execution_count": null,
   "metadata": {},
   "outputs": [],
   "source": [
    "# TODO Classificazione del grafo (non so come farla)"
   ]
  },
  {
   "cell_type": "markdown",
   "metadata": {},
   "source": [
    "## Nodi importanti\n",
    "\n",
    "In questa sezione si andrà ad analizzare quale nodi sono più importanti di altri, in base a metriche descritte in precedenza.\n",
    "\n",
    "Questi nodi saranno poi target di attacchi per il 2nd assignment."
   ]
  },
  {
   "cell_type": "code",
   "execution_count": null,
   "metadata": {},
   "outputs": [],
   "source": [
    "print(\"10 nodi con degree maggiore\")\n",
    "dict(sorted(graph.degree, key=lambda x: x[1], reverse=True)[:10])"
   ]
  },
  {
   "cell_type": "code",
   "execution_count": null,
   "metadata": {},
   "outputs": [],
   "source": [
    "import operator\n",
    "\n",
    "print(\"10 nodi con maggiore closeness\")\n",
    "dict(sorted(networkx.closeness_centrality(graph).items(), key=operator.itemgetter(1),reverse=True)[:10])\n"
   ]
  },
  {
   "cell_type": "code",
   "execution_count": null,
   "metadata": {},
   "outputs": [],
   "source": [
    "print(\"10 nodi con maggiore betweenness\")\n",
    "dict(sorted(networkx.betweenness_centrality(graph).items(), key=operator.itemgetter(1),reverse=True)[:10])\n"
   ]
  }
 ],
 "metadata": {
  "file_extension": ".py",
  "kernelspec": {
   "display_name": "Python 3.6.9 64-bit",
   "language": "python",
   "name": "python36964bitafdd07be01cc4ad9974834f32789ac23"
  },
  "language_info": {
   "codemirror_mode": {
    "name": "ipython",
    "version": 3
   },
   "file_extension": ".py",
   "mimetype": "text/x-python",
   "name": "python",
   "nbconvert_exporter": "python",
   "pygments_lexer": "ipython3",
   "version": "3.6.9"
  },
  "mimetype": "text/x-python",
  "name": "python",
  "npconvert_exporter": "python",
  "pygments_lexer": "ipython3",
  "version": 3
 },
 "nbformat": 4,
 "nbformat_minor": 2
}
